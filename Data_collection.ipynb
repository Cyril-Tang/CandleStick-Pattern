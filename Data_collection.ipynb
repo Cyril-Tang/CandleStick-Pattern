{
 "cells": [
  {
   "cell_type": "code",
   "execution_count": 17,
   "metadata": {
    "pycharm": {
     "is_executing": false
    }
   },
   "outputs": [
    {
     "traceback": [
      "\u001b[1;31m---------------------------------------------------------------------------\u001b[0m",
      "\u001b[1;31mModuleNotFoundError\u001b[0m                       Traceback (most recent call last)",
      "\u001b[1;32m<ipython-input-17-619a99ed359c>\u001b[0m in \u001b[0;36m<module>\u001b[1;34m\u001b[0m\n\u001b[0;32m      2\u001b[0m \u001b[1;32mimport\u001b[0m \u001b[0mtushare\u001b[0m \u001b[1;32mas\u001b[0m \u001b[0mts\u001b[0m\u001b[1;33m\u001b[0m\u001b[1;33m\u001b[0m\u001b[0m\n\u001b[0;32m      3\u001b[0m \u001b[1;32mimport\u001b[0m \u001b[0mpandas\u001b[0m \u001b[1;32mas\u001b[0m \u001b[0mpd\u001b[0m\u001b[1;33m\u001b[0m\u001b[1;33m\u001b[0m\u001b[0m\n\u001b[1;32m----> 4\u001b[1;33m \u001b[1;32mimport\u001b[0m \u001b[0mmatplotlib\u001b[0m\u001b[1;33m.\u001b[0m\u001b[0mpyplot\u001b[0m \u001b[1;32mas\u001b[0m \u001b[0mplt\u001b[0m\u001b[1;33m\u001b[0m\u001b[1;33m\u001b[0m\u001b[0m\n\u001b[0m\u001b[0;32m      5\u001b[0m \u001b[1;32mfrom\u001b[0m \u001b[0mmpl_finance\u001b[0m \u001b[1;32mimport\u001b[0m \u001b[0mcandlestick2_ochl\u001b[0m\u001b[1;33m\u001b[0m\u001b[1;33m\u001b[0m\u001b[0m\n\u001b[0;32m      6\u001b[0m \u001b[1;32mfrom\u001b[0m \u001b[0mtqdm\u001b[0m \u001b[1;32mimport\u001b[0m \u001b[0mtqdm\u001b[0m\u001b[1;33m\u001b[0m\u001b[1;33m\u001b[0m\u001b[0m\n",
      "\u001b[1;31mModuleNotFoundError\u001b[0m: No module named 'matplotlib.pyplot'"
     ],
     "ename": "ModuleNotFoundError",
     "evalue": "No module named 'matplotlib.pyplot'",
     "output_type": "error"
    }
   ],
   "source": [
    "import numpy as np\n",
    "import tushare as ts\n",
    "import pandas as pd\n",
    "import matplotlib.pyplot as plt\n",
    "from mpl_finance import candlestick2_ochl\n",
    "from tqdm import tqdm\n"
   ]
  },
  {
   "cell_type": "code",
   "execution_count": 12,
   "outputs": [
    {
     "name": "stdout",
     "text": [
      "['D:\\\\Workapace\\\\Dissertation\\\\Code', 'D:\\\\Workapace\\\\Dissertation\\\\Code', 'D:\\\\Anaconda3\\\\python37.zip', 'D:\\\\Anaconda3\\\\DLLs', 'D:\\\\Anaconda3\\\\lib', 'D:\\\\Anaconda3', '', 'C:\\\\Users\\\\Cyril\\\\AppData\\\\Roaming\\\\Python\\\\Python37\\\\site-packages', 'D:\\\\Anaconda3\\\\lib\\\\site-packages', 'D:\\\\Anaconda3\\\\lib\\\\site-packages\\\\win32', 'D:\\\\Anaconda3\\\\lib\\\\site-packages\\\\win32\\\\lib', 'D:\\\\Anaconda3\\\\lib\\\\site-packages\\\\Pythonwin', 'D:\\\\Anaconda3\\\\lib\\\\site-packages\\\\IPython\\\\extensions', 'C:\\\\Users\\\\Cyril\\\\.ipython', 'D:\\\\Program Files\\\\PyCharm 2019.1.1\\\\helpers\\\\pydev', 'D:\\\\Program Files\\\\PyCharm 2019.1.1\\\\helpers-pro\\\\jupyter_debug']\n"
     ],
     "output_type": "stream"
    }
   ],
   "source": [
    "import sys\n",
    "print(sys.path)"
   ],
   "metadata": {
    "collapsed": false,
    "pycharm": {
     "name": "#%%\n",
     "is_executing": false
    }
   }
  },
  {
   "cell_type": "code",
   "execution_count": 4,
   "metadata": {
    "pycharm": {
     "is_executing": false
    }
   },
   "outputs": [
    {
     "data": {
      "text/plain": "     ts_code  symbol  name area industry list_date\n0  000001.SZ  000001  平安银行   深圳       银行  19910403\n1  000002.SZ  000002   万科A   深圳     全国地产  19910129\n2  000004.SZ  000004  国农科技   深圳     生物制药  19910114\n3  000005.SZ  000005  世纪星源   深圳     环境保护  19901210\n4  000006.SZ  000006  深振业A   深圳     区域地产  19920427",
      "text/html": "<div>\n<style scoped>\n    .dataframe tbody tr th:only-of-type {\n        vertical-align: middle;\n    }\n\n    .dataframe tbody tr th {\n        vertical-align: top;\n    }\n\n    .dataframe thead th {\n        text-align: right;\n    }\n</style>\n<table border=\"1\" class=\"dataframe\">\n  <thead>\n    <tr style=\"text-align: right;\">\n      <th></th>\n      <th>ts_code</th>\n      <th>symbol</th>\n      <th>name</th>\n      <th>area</th>\n      <th>industry</th>\n      <th>list_date</th>\n    </tr>\n  </thead>\n  <tbody>\n    <tr>\n      <td>0</td>\n      <td>000001.SZ</td>\n      <td>000001</td>\n      <td>平安银行</td>\n      <td>深圳</td>\n      <td>银行</td>\n      <td>19910403</td>\n    </tr>\n    <tr>\n      <td>1</td>\n      <td>000002.SZ</td>\n      <td>000002</td>\n      <td>万科A</td>\n      <td>深圳</td>\n      <td>全国地产</td>\n      <td>19910129</td>\n    </tr>\n    <tr>\n      <td>2</td>\n      <td>000004.SZ</td>\n      <td>000004</td>\n      <td>国农科技</td>\n      <td>深圳</td>\n      <td>生物制药</td>\n      <td>19910114</td>\n    </tr>\n    <tr>\n      <td>3</td>\n      <td>000005.SZ</td>\n      <td>000005</td>\n      <td>世纪星源</td>\n      <td>深圳</td>\n      <td>环境保护</td>\n      <td>19901210</td>\n    </tr>\n    <tr>\n      <td>4</td>\n      <td>000006.SZ</td>\n      <td>000006</td>\n      <td>深振业A</td>\n      <td>深圳</td>\n      <td>区域地产</td>\n      <td>19920427</td>\n    </tr>\n  </tbody>\n</table>\n</div>"
     },
     "metadata": {},
     "output_type": "execute_result",
     "execution_count": 4
    }
   ],
   "source": [
    "start_date = '2000-01-01'\n",
    "end_date = '2015-12-31'\n",
    "\n",
    "pro = ts.pro_api()\n",
    "\n",
    "# Obtain  all stocks available\n",
    "\n",
    "data = pro.query('stock_basic', exchange='', list_status='L', fields='ts_code,symbol,name,area,industry,list_date')\n",
    "data = data.dropna()\n",
    "data.drop(data[data.symbol.astype('int') > 604000].index, inplace = True)\n",
    "data.head()"
   ]
  },
  {
   "cell_type": "code",
   "execution_count": 3,
   "metadata": {},
   "outputs": [],
   "source": [
    "stock_list = [i for i in data.ts_code]\n",
    " \n",
    "# Classify industry info\n",
    "data.industry = data.industry.astype('category')\n"
   ]
  },
  {
   "cell_type": "code",
   "execution_count": null,
   "outputs": [],
   "source": [
    "all_stocks = tqdm(stock_list)\n",
    "for stock in all_stocks:\n",
    "    symbol = stock.split('.')[0]\n",
    "    df = ts.pro_bar(ts_code=stock, adj='qfq', start_date=start_date, end_date=end_date)\n",
    "    df.sort_index(axis=0, ascending = False, inplace = True)\n",
    "    df.reset_index(drop=True, inplace=True)\n",
    "    df.to_csv('Data/'+symbol+'.csv')\n"
   ],
   "metadata": {
    "collapsed": false,
    "pycharm": {
     "name": "#%%\n"
    }
   }
  },
  {
   "cell_type": "code",
   "execution_count": 27,
   "metadata": {},
   "outputs": [
    {
     "data": {
      "text/html": "<div>\n<style scoped>\n    .dataframe tbody tr th:only-of-type {\n        vertical-align: middle;\n    }\n\n    .dataframe tbody tr th {\n        vertical-align: top;\n    }\n\n    .dataframe thead th {\n        text-align: right;\n    }\n</style>\n<table border=\"1\" class=\"dataframe\">\n  <thead>\n    <tr style=\"text-align: right;\">\n      <th></th>\n      <th>ts_code</th>\n      <th>trade_date</th>\n      <th>open</th>\n      <th>high</th>\n      <th>low</th>\n      <th>close</th>\n      <th>pre_close</th>\n      <th>change</th>\n      <th>pct_chg</th>\n      <th>vol</th>\n      <th>amount</th>\n    </tr>\n  </thead>\n  <tbody>\n    <tr>\n      <th>0</th>\n      <td>000635.SZ</td>\n      <td>20180801</td>\n      <td>10.66</td>\n      <td>11.57</td>\n      <td>10.57</td>\n      <td>11.02</td>\n      <td>11.19</td>\n      <td>-0.17</td>\n      <td>-1.5192</td>\n      <td>134196.46</td>\n      <td>148492.146</td>\n    </tr>\n    <tr>\n      <th>1</th>\n      <td>000635.SZ</td>\n      <td>20180802</td>\n      <td>10.86</td>\n      <td>10.95</td>\n      <td>10.25</td>\n      <td>10.52</td>\n      <td>11.02</td>\n      <td>-0.50</td>\n      <td>-4.5372</td>\n      <td>82407.14</td>\n      <td>87581.980</td>\n    </tr>\n    <tr>\n      <th>2</th>\n      <td>000635.SZ</td>\n      <td>20180803</td>\n      <td>10.44</td>\n      <td>10.97</td>\n      <td>10.23</td>\n      <td>10.38</td>\n      <td>10.52</td>\n      <td>-0.14</td>\n      <td>-1.3308</td>\n      <td>68286.99</td>\n      <td>72797.428</td>\n    </tr>\n    <tr>\n      <th>3</th>\n      <td>000635.SZ</td>\n      <td>20180806</td>\n      <td>10.22</td>\n      <td>10.53</td>\n      <td>9.86</td>\n      <td>9.97</td>\n      <td>10.38</td>\n      <td>-0.41</td>\n      <td>-3.9499</td>\n      <td>64714.59</td>\n      <td>65520.659</td>\n    </tr>\n    <tr>\n      <th>4</th>\n      <td>000635.SZ</td>\n      <td>20180807</td>\n      <td>10.12</td>\n      <td>10.49</td>\n      <td>9.81</td>\n      <td>10.35</td>\n      <td>9.97</td>\n      <td>0.38</td>\n      <td>3.8114</td>\n      <td>69361.08</td>\n      <td>70764.290</td>\n    </tr>\n    <tr>\n      <th>5</th>\n      <td>000635.SZ</td>\n      <td>20180808</td>\n      <td>10.39</td>\n      <td>11.19</td>\n      <td>10.39</td>\n      <td>10.85</td>\n      <td>10.35</td>\n      <td>0.50</td>\n      <td>4.8309</td>\n      <td>124513.55</td>\n      <td>134874.772</td>\n    </tr>\n    <tr>\n      <th>6</th>\n      <td>000635.SZ</td>\n      <td>20180809</td>\n      <td>11.94</td>\n      <td>11.94</td>\n      <td>11.94</td>\n      <td>11.94</td>\n      <td>10.85</td>\n      <td>1.09</td>\n      <td>10.0461</td>\n      <td>23733.00</td>\n      <td>28337.202</td>\n    </tr>\n    <tr>\n      <th>7</th>\n      <td>000635.SZ</td>\n      <td>20180810</td>\n      <td>12.80</td>\n      <td>13.13</td>\n      <td>12.52</td>\n      <td>13.13</td>\n      <td>11.94</td>\n      <td>1.19</td>\n      <td>9.9665</td>\n      <td>262710.42</td>\n      <td>341637.007</td>\n    </tr>\n    <tr>\n      <th>8</th>\n      <td>000635.SZ</td>\n      <td>20180813</td>\n      <td>13.01</td>\n      <td>13.26</td>\n      <td>12.45</td>\n      <td>12.62</td>\n      <td>13.13</td>\n      <td>-0.51</td>\n      <td>-3.8842</td>\n      <td>247702.98</td>\n      <td>316291.003</td>\n    </tr>\n    <tr>\n      <th>9</th>\n      <td>000635.SZ</td>\n      <td>20180814</td>\n      <td>12.31</td>\n      <td>12.49</td>\n      <td>11.94</td>\n      <td>11.94</td>\n      <td>12.62</td>\n      <td>-0.68</td>\n      <td>-5.3883</td>\n      <td>173421.67</td>\n      <td>211232.402</td>\n    </tr>\n    <tr>\n      <th>10</th>\n      <td>000635.SZ</td>\n      <td>20180815</td>\n      <td>12.22</td>\n      <td>13.13</td>\n      <td>12.22</td>\n      <td>13.13</td>\n      <td>11.94</td>\n      <td>1.19</td>\n      <td>9.9665</td>\n      <td>272119.46</td>\n      <td>351376.126</td>\n    </tr>\n    <tr>\n      <th>11</th>\n      <td>000635.SZ</td>\n      <td>20180816</td>\n      <td>12.94</td>\n      <td>12.94</td>\n      <td>12.20</td>\n      <td>12.30</td>\n      <td>13.13</td>\n      <td>-0.83</td>\n      <td>-6.3214</td>\n      <td>203212.75</td>\n      <td>255089.253</td>\n    </tr>\n    <tr>\n      <th>12</th>\n      <td>000635.SZ</td>\n      <td>20180817</td>\n      <td>12.15</td>\n      <td>12.54</td>\n      <td>12.08</td>\n      <td>12.29</td>\n      <td>12.30</td>\n      <td>-0.01</td>\n      <td>-0.0813</td>\n      <td>114467.18</td>\n      <td>140956.337</td>\n    </tr>\n    <tr>\n      <th>13</th>\n      <td>000635.SZ</td>\n      <td>20180820</td>\n      <td>12.29</td>\n      <td>12.40</td>\n      <td>11.92</td>\n      <td>12.36</td>\n      <td>12.29</td>\n      <td>0.07</td>\n      <td>0.5696</td>\n      <td>86276.75</td>\n      <td>105244.086</td>\n    </tr>\n    <tr>\n      <th>14</th>\n      <td>000635.SZ</td>\n      <td>20180821</td>\n      <td>12.28</td>\n      <td>13.50</td>\n      <td>12.25</td>\n      <td>12.69</td>\n      <td>12.36</td>\n      <td>0.33</td>\n      <td>2.6699</td>\n      <td>147439.88</td>\n      <td>190278.040</td>\n    </tr>\n    <tr>\n      <th>15</th>\n      <td>000635.SZ</td>\n      <td>20180822</td>\n      <td>12.53</td>\n      <td>12.97</td>\n      <td>12.36</td>\n      <td>12.96</td>\n      <td>12.69</td>\n      <td>0.27</td>\n      <td>2.1277</td>\n      <td>121772.45</td>\n      <td>155124.149</td>\n    </tr>\n    <tr>\n      <th>16</th>\n      <td>000635.SZ</td>\n      <td>20180823</td>\n      <td>12.88</td>\n      <td>13.13</td>\n      <td>12.67</td>\n      <td>12.94</td>\n      <td>12.96</td>\n      <td>-0.02</td>\n      <td>-0.1543</td>\n      <td>97168.64</td>\n      <td>125216.792</td>\n    </tr>\n    <tr>\n      <th>17</th>\n      <td>000635.SZ</td>\n      <td>20180824</td>\n      <td>12.90</td>\n      <td>13.15</td>\n      <td>12.45</td>\n      <td>12.53</td>\n      <td>12.94</td>\n      <td>-0.41</td>\n      <td>-3.1685</td>\n      <td>105048.50</td>\n      <td>134259.299</td>\n    </tr>\n    <tr>\n      <th>18</th>\n      <td>000635.SZ</td>\n      <td>20180827</td>\n      <td>12.49</td>\n      <td>12.75</td>\n      <td>12.37</td>\n      <td>12.74</td>\n      <td>12.53</td>\n      <td>0.21</td>\n      <td>1.6760</td>\n      <td>80165.03</td>\n      <td>100824.465</td>\n    </tr>\n    <tr>\n      <th>19</th>\n      <td>000635.SZ</td>\n      <td>20180828</td>\n      <td>13.02</td>\n      <td>13.49</td>\n      <td>12.95</td>\n      <td>13.15</td>\n      <td>12.74</td>\n      <td>0.41</td>\n      <td>3.2182</td>\n      <td>127873.52</td>\n      <td>168488.298</td>\n    </tr>\n    <tr>\n      <th>20</th>\n      <td>000635.SZ</td>\n      <td>20180829</td>\n      <td>13.20</td>\n      <td>13.20</td>\n      <td>12.71</td>\n      <td>12.78</td>\n      <td>13.15</td>\n      <td>-0.37</td>\n      <td>-2.8137</td>\n      <td>79512.75</td>\n      <td>102408.690</td>\n    </tr>\n    <tr>\n      <th>21</th>\n      <td>000635.SZ</td>\n      <td>20180830</td>\n      <td>12.70</td>\n      <td>12.83</td>\n      <td>12.33</td>\n      <td>12.42</td>\n      <td>12.78</td>\n      <td>-0.36</td>\n      <td>-2.8169</td>\n      <td>69800.99</td>\n      <td>87314.765</td>\n    </tr>\n    <tr>\n      <th>22</th>\n      <td>000635.SZ</td>\n      <td>20180831</td>\n      <td>12.45</td>\n      <td>12.75</td>\n      <td>12.45</td>\n      <td>12.50</td>\n      <td>12.42</td>\n      <td>0.08</td>\n      <td>0.6441</td>\n      <td>56303.05</td>\n      <td>70819.782</td>\n    </tr>\n    <tr>\n      <th>23</th>\n      <td>000635.SZ</td>\n      <td>20180903</td>\n      <td>12.38</td>\n      <td>12.79</td>\n      <td>12.36</td>\n      <td>12.73</td>\n      <td>12.50</td>\n      <td>0.23</td>\n      <td>1.8400</td>\n      <td>58204.47</td>\n      <td>73536.524</td>\n    </tr>\n    <tr>\n      <th>24</th>\n      <td>000635.SZ</td>\n      <td>20180904</td>\n      <td>12.69</td>\n      <td>12.75</td>\n      <td>12.35</td>\n      <td>12.60</td>\n      <td>12.73</td>\n      <td>-0.13</td>\n      <td>-1.0212</td>\n      <td>57599.20</td>\n      <td>72213.111</td>\n    </tr>\n    <tr>\n      <th>25</th>\n      <td>000635.SZ</td>\n      <td>20180905</td>\n      <td>12.55</td>\n      <td>12.55</td>\n      <td>12.12</td>\n      <td>12.12</td>\n      <td>12.60</td>\n      <td>-0.48</td>\n      <td>-3.8095</td>\n      <td>55987.00</td>\n      <td>68893.356</td>\n    </tr>\n    <tr>\n      <th>26</th>\n      <td>000635.SZ</td>\n      <td>20180906</td>\n      <td>12.04</td>\n      <td>12.23</td>\n      <td>12.00</td>\n      <td>12.13</td>\n      <td>12.12</td>\n      <td>0.01</td>\n      <td>0.0825</td>\n      <td>35751.02</td>\n      <td>43325.485</td>\n    </tr>\n    <tr>\n      <th>27</th>\n      <td>000635.SZ</td>\n      <td>20180907</td>\n      <td>12.08</td>\n      <td>12.27</td>\n      <td>12.01</td>\n      <td>12.10</td>\n      <td>12.13</td>\n      <td>-0.03</td>\n      <td>-0.2473</td>\n      <td>31110.63</td>\n      <td>37782.793</td>\n    </tr>\n    <tr>\n      <th>28</th>\n      <td>000635.SZ</td>\n      <td>20180910</td>\n      <td>12.13</td>\n      <td>12.13</td>\n      <td>11.20</td>\n      <td>11.37</td>\n      <td>12.10</td>\n      <td>-0.73</td>\n      <td>-6.0331</td>\n      <td>60845.61</td>\n      <td>70677.954</td>\n    </tr>\n    <tr>\n      <th>29</th>\n      <td>000635.SZ</td>\n      <td>20180911</td>\n      <td>11.39</td>\n      <td>11.55</td>\n      <td>11.31</td>\n      <td>11.49</td>\n      <td>11.37</td>\n      <td>0.12</td>\n      <td>1.0554</td>\n      <td>35241.84</td>\n      <td>40391.552</td>\n    </tr>\n    <tr>\n      <th>30</th>\n      <td>000635.SZ</td>\n      <td>20180912</td>\n      <td>11.53</td>\n      <td>11.53</td>\n      <td>11.31</td>\n      <td>11.42</td>\n      <td>11.49</td>\n      <td>-0.07</td>\n      <td>-0.6092</td>\n      <td>23421.01</td>\n      <td>26830.121</td>\n    </tr>\n    <tr>\n      <th>31</th>\n      <td>000635.SZ</td>\n      <td>20180913</td>\n      <td>11.53</td>\n      <td>11.63</td>\n      <td>11.42</td>\n      <td>11.60</td>\n      <td>11.42</td>\n      <td>0.18</td>\n      <td>1.5762</td>\n      <td>28461.75</td>\n      <td>32797.981</td>\n    </tr>\n    <tr>\n      <th>32</th>\n      <td>000635.SZ</td>\n      <td>20180914</td>\n      <td>11.62</td>\n      <td>11.62</td>\n      <td>11.31</td>\n      <td>11.33</td>\n      <td>11.60</td>\n      <td>-0.27</td>\n      <td>-2.3276</td>\n      <td>30657.00</td>\n      <td>35199.653</td>\n    </tr>\n    <tr>\n      <th>33</th>\n      <td>000635.SZ</td>\n      <td>20180917</td>\n      <td>11.28</td>\n      <td>11.29</td>\n      <td>10.94</td>\n      <td>11.09</td>\n      <td>11.33</td>\n      <td>-0.24</td>\n      <td>-2.1183</td>\n      <td>33291.45</td>\n      <td>36867.248</td>\n    </tr>\n    <tr>\n      <th>34</th>\n      <td>000635.SZ</td>\n      <td>20180918</td>\n      <td>11.08</td>\n      <td>11.54</td>\n      <td>11.00</td>\n      <td>11.54</td>\n      <td>11.09</td>\n      <td>0.45</td>\n      <td>4.0577</td>\n      <td>45526.45</td>\n      <td>51557.731</td>\n    </tr>\n    <tr>\n      <th>35</th>\n      <td>000635.SZ</td>\n      <td>20180919</td>\n      <td>11.45</td>\n      <td>11.61</td>\n      <td>11.33</td>\n      <td>11.46</td>\n      <td>11.54</td>\n      <td>-0.08</td>\n      <td>-0.6932</td>\n      <td>42429.45</td>\n      <td>48685.642</td>\n    </tr>\n    <tr>\n      <th>36</th>\n      <td>000635.SZ</td>\n      <td>20180920</td>\n      <td>11.46</td>\n      <td>11.75</td>\n      <td>11.41</td>\n      <td>11.69</td>\n      <td>11.46</td>\n      <td>0.23</td>\n      <td>2.0070</td>\n      <td>48894.48</td>\n      <td>56760.695</td>\n    </tr>\n    <tr>\n      <th>37</th>\n      <td>000635.SZ</td>\n      <td>20180921</td>\n      <td>11.70</td>\n      <td>11.85</td>\n      <td>11.49</td>\n      <td>11.78</td>\n      <td>11.69</td>\n      <td>0.09</td>\n      <td>0.7699</td>\n      <td>49266.45</td>\n      <td>57501.286</td>\n    </tr>\n    <tr>\n      <th>38</th>\n      <td>000635.SZ</td>\n      <td>20180925</td>\n      <td>11.65</td>\n      <td>11.75</td>\n      <td>11.55</td>\n      <td>11.67</td>\n      <td>11.78</td>\n      <td>-0.11</td>\n      <td>-0.9338</td>\n      <td>20648.00</td>\n      <td>24102.059</td>\n    </tr>\n    <tr>\n      <th>39</th>\n      <td>000635.SZ</td>\n      <td>20180926</td>\n      <td>11.64</td>\n      <td>11.78</td>\n      <td>11.63</td>\n      <td>11.73</td>\n      <td>11.67</td>\n      <td>0.06</td>\n      <td>0.5141</td>\n      <td>27430.20</td>\n      <td>32083.255</td>\n    </tr>\n    <tr>\n      <th>40</th>\n      <td>000635.SZ</td>\n      <td>20180927</td>\n      <td>11.65</td>\n      <td>11.85</td>\n      <td>11.64</td>\n      <td>11.69</td>\n      <td>11.73</td>\n      <td>-0.04</td>\n      <td>-0.3410</td>\n      <td>25572.44</td>\n      <td>29967.093</td>\n    </tr>\n    <tr>\n      <th>41</th>\n      <td>000635.SZ</td>\n      <td>20180928</td>\n      <td>11.70</td>\n      <td>11.98</td>\n      <td>11.69</td>\n      <td>11.93</td>\n      <td>11.69</td>\n      <td>0.24</td>\n      <td>2.0530</td>\n      <td>39567.19</td>\n      <td>46991.806</td>\n    </tr>\n    <tr>\n      <th>42</th>\n      <td>000635.SZ</td>\n      <td>20181008</td>\n      <td>11.76</td>\n      <td>12.10</td>\n      <td>11.66</td>\n      <td>11.96</td>\n      <td>11.93</td>\n      <td>0.03</td>\n      <td>0.2515</td>\n      <td>47921.32</td>\n      <td>57120.451</td>\n    </tr>\n    <tr>\n      <th>43</th>\n      <td>000635.SZ</td>\n      <td>20181009</td>\n      <td>11.90</td>\n      <td>12.13</td>\n      <td>11.80</td>\n      <td>12.02</td>\n      <td>11.96</td>\n      <td>0.06</td>\n      <td>0.5017</td>\n      <td>38363.00</td>\n      <td>45953.428</td>\n    </tr>\n    <tr>\n      <th>44</th>\n      <td>000635.SZ</td>\n      <td>20181010</td>\n      <td>12.43</td>\n      <td>13.15</td>\n      <td>12.16</td>\n      <td>12.85</td>\n      <td>12.02</td>\n      <td>0.83</td>\n      <td>6.9052</td>\n      <td>130348.53</td>\n      <td>164190.944</td>\n    </tr>\n    <tr>\n      <th>45</th>\n      <td>000635.SZ</td>\n      <td>20181011</td>\n      <td>12.30</td>\n      <td>12.83</td>\n      <td>12.18</td>\n      <td>12.37</td>\n      <td>12.85</td>\n      <td>-0.48</td>\n      <td>-3.7354</td>\n      <td>97961.89</td>\n      <td>121770.899</td>\n    </tr>\n  </tbody>\n</table>\n</div>",
      "text/plain": "      ts_code trade_date   open   high    low  close  pre_close  change  \\\n0   000635.SZ   20180801  10.66  11.57  10.57  11.02      11.19   -0.17   \n1   000635.SZ   20180802  10.86  10.95  10.25  10.52      11.02   -0.50   \n2   000635.SZ   20180803  10.44  10.97  10.23  10.38      10.52   -0.14   \n3   000635.SZ   20180806  10.22  10.53   9.86   9.97      10.38   -0.41   \n4   000635.SZ   20180807  10.12  10.49   9.81  10.35       9.97    0.38   \n5   000635.SZ   20180808  10.39  11.19  10.39  10.85      10.35    0.50   \n6   000635.SZ   20180809  11.94  11.94  11.94  11.94      10.85    1.09   \n7   000635.SZ   20180810  12.80  13.13  12.52  13.13      11.94    1.19   \n8   000635.SZ   20180813  13.01  13.26  12.45  12.62      13.13   -0.51   \n9   000635.SZ   20180814  12.31  12.49  11.94  11.94      12.62   -0.68   \n10  000635.SZ   20180815  12.22  13.13  12.22  13.13      11.94    1.19   \n11  000635.SZ   20180816  12.94  12.94  12.20  12.30      13.13   -0.83   \n12  000635.SZ   20180817  12.15  12.54  12.08  12.29      12.30   -0.01   \n13  000635.SZ   20180820  12.29  12.40  11.92  12.36      12.29    0.07   \n14  000635.SZ   20180821  12.28  13.50  12.25  12.69      12.36    0.33   \n15  000635.SZ   20180822  12.53  12.97  12.36  12.96      12.69    0.27   \n16  000635.SZ   20180823  12.88  13.13  12.67  12.94      12.96   -0.02   \n17  000635.SZ   20180824  12.90  13.15  12.45  12.53      12.94   -0.41   \n18  000635.SZ   20180827  12.49  12.75  12.37  12.74      12.53    0.21   \n19  000635.SZ   20180828  13.02  13.49  12.95  13.15      12.74    0.41   \n20  000635.SZ   20180829  13.20  13.20  12.71  12.78      13.15   -0.37   \n21  000635.SZ   20180830  12.70  12.83  12.33  12.42      12.78   -0.36   \n22  000635.SZ   20180831  12.45  12.75  12.45  12.50      12.42    0.08   \n23  000635.SZ   20180903  12.38  12.79  12.36  12.73      12.50    0.23   \n24  000635.SZ   20180904  12.69  12.75  12.35  12.60      12.73   -0.13   \n25  000635.SZ   20180905  12.55  12.55  12.12  12.12      12.60   -0.48   \n26  000635.SZ   20180906  12.04  12.23  12.00  12.13      12.12    0.01   \n27  000635.SZ   20180907  12.08  12.27  12.01  12.10      12.13   -0.03   \n28  000635.SZ   20180910  12.13  12.13  11.20  11.37      12.10   -0.73   \n29  000635.SZ   20180911  11.39  11.55  11.31  11.49      11.37    0.12   \n30  000635.SZ   20180912  11.53  11.53  11.31  11.42      11.49   -0.07   \n31  000635.SZ   20180913  11.53  11.63  11.42  11.60      11.42    0.18   \n32  000635.SZ   20180914  11.62  11.62  11.31  11.33      11.60   -0.27   \n33  000635.SZ   20180917  11.28  11.29  10.94  11.09      11.33   -0.24   \n34  000635.SZ   20180918  11.08  11.54  11.00  11.54      11.09    0.45   \n35  000635.SZ   20180919  11.45  11.61  11.33  11.46      11.54   -0.08   \n36  000635.SZ   20180920  11.46  11.75  11.41  11.69      11.46    0.23   \n37  000635.SZ   20180921  11.70  11.85  11.49  11.78      11.69    0.09   \n38  000635.SZ   20180925  11.65  11.75  11.55  11.67      11.78   -0.11   \n39  000635.SZ   20180926  11.64  11.78  11.63  11.73      11.67    0.06   \n40  000635.SZ   20180927  11.65  11.85  11.64  11.69      11.73   -0.04   \n41  000635.SZ   20180928  11.70  11.98  11.69  11.93      11.69    0.24   \n42  000635.SZ   20181008  11.76  12.10  11.66  11.96      11.93    0.03   \n43  000635.SZ   20181009  11.90  12.13  11.80  12.02      11.96    0.06   \n44  000635.SZ   20181010  12.43  13.15  12.16  12.85      12.02    0.83   \n45  000635.SZ   20181011  12.30  12.83  12.18  12.37      12.85   -0.48   \n\n    pct_chg        vol      amount  \n0   -1.5192  134196.46  148492.146  \n1   -4.5372   82407.14   87581.980  \n2   -1.3308   68286.99   72797.428  \n3   -3.9499   64714.59   65520.659  \n4    3.8114   69361.08   70764.290  \n5    4.8309  124513.55  134874.772  \n6   10.0461   23733.00   28337.202  \n7    9.9665  262710.42  341637.007  \n8   -3.8842  247702.98  316291.003  \n9   -5.3883  173421.67  211232.402  \n10   9.9665  272119.46  351376.126  \n11  -6.3214  203212.75  255089.253  \n12  -0.0813  114467.18  140956.337  \n13   0.5696   86276.75  105244.086  \n14   2.6699  147439.88  190278.040  \n15   2.1277  121772.45  155124.149  \n16  -0.1543   97168.64  125216.792  \n17  -3.1685  105048.50  134259.299  \n18   1.6760   80165.03  100824.465  \n19   3.2182  127873.52  168488.298  \n20  -2.8137   79512.75  102408.690  \n21  -2.8169   69800.99   87314.765  \n22   0.6441   56303.05   70819.782  \n23   1.8400   58204.47   73536.524  \n24  -1.0212   57599.20   72213.111  \n25  -3.8095   55987.00   68893.356  \n26   0.0825   35751.02   43325.485  \n27  -0.2473   31110.63   37782.793  \n28  -6.0331   60845.61   70677.954  \n29   1.0554   35241.84   40391.552  \n30  -0.6092   23421.01   26830.121  \n31   1.5762   28461.75   32797.981  \n32  -2.3276   30657.00   35199.653  \n33  -2.1183   33291.45   36867.248  \n34   4.0577   45526.45   51557.731  \n35  -0.6932   42429.45   48685.642  \n36   2.0070   48894.48   56760.695  \n37   0.7699   49266.45   57501.286  \n38  -0.9338   20648.00   24102.059  \n39   0.5141   27430.20   32083.255  \n40  -0.3410   25572.44   29967.093  \n41   2.0530   39567.19   46991.806  \n42   0.2515   47921.32   57120.451  \n43   0.5017   38363.00   45953.428  \n44   6.9052  130348.53  164190.944  \n45  -3.7354   97961.89  121770.899  "
     },
     "execution_count": 27,
     "metadata": {},
     "output_type": "execute_result"
    }
   ],
   "source": [
    "df = ts.pro_bar(ts_code='000635.SZ', adj='qfq', start_date='20180801', end_date='20181011')\n",
    "df.sort_index(axis=0, ascending = False, inplace = True)\n",
    "df.reset_index(drop=True, inplace=True)\n",
    "df"
   ]
  },
  {
   "cell_type": "code",
   "execution_count": 28,
   "metadata": {},
   "outputs": [
    {
     "data": {
      "text/plain": "'20180815'"
     },
     "execution_count": 28,
     "metadata": {},
     "output_type": "execute_result"
    }
   ],
   "source": [
    "df1 = df.copy()[:15]\n",
    "df1.drop([5,6,4,7,8,9,12],inplace = True)\n",
    "df1.trade_date[10]"
   ]
  },
  {
   "cell_type": "code",
   "execution_count": 38,
   "metadata": {},
   "outputs": [],
   "source": [
    "def generate_img(data, length):\n",
    "    data_copy = data[:-length].copy()\n",
    "    for i in range(len(data)//2):\n",
    "        start = np.random.choice(data_copy.index)\n",
    "        img_name = data_copy.trade_date[start]\n",
    "        data_copy.drop([start], inplace=True)\n",
    "        img_data = data[start:start+length]\n",
    "        fig = plt.figure(figsize=(12, 5))\n",
    "        ax = fig.add_subplot(1, 1, 1)\n",
    "        ax.set_xticks(range(0, len(img_data['trade_date']), 10))\n",
    "        ax.set_xticklabels(img_data['trade_date'][::10])\n",
    "        candlestick2_ochl(ax, img_data['open'], img_data['close'], img_data['high'], img_data['low'],\n",
    "                            width=0.5, colorup='r', colordown='green',\n",
    "                            alpha=0.6)\n",
    "        plt.savefig(\"Data/\"+img_name + \".png\")\n",
    "        plt.close(fig)"
   ]
  },
  {
   "cell_type": "code",
   "execution_count": 39,
   "metadata": {},
   "outputs": [],
   "source": [
    "generate_img(df,20)"
   ]
  },
  {
   "cell_type": "code",
   "metadata": {},
   "outputs": [],
   "source": []
  }
 ],
 "metadata": {
  "kernelspec": {
   "display_name": "Python 3",
   "language": "python",
   "name": "python3"
  },
  "language_info": {
   "codemirror_mode": {
    "name": "ipython",
    "version": 3
   },
   "file_extension": ".py",
   "mimetype": "text/x-python",
   "name": "python",
   "nbconvert_exporter": "python",
   "pygments_lexer": "ipython3",
   "version": "3.7.3"
  },
  "pycharm": {
   "stem_cell": {
    "cell_type": "raw",
    "source": [],
    "metadata": {
     "collapsed": false
    }
   }
  }
 },
 "nbformat": 4,
 "nbformat_minor": 2
}